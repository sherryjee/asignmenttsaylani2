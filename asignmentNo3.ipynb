{
 "cells": [
  {
   "cell_type": "code",
   "execution_count": null,
   "metadata": {},
   "outputs": [],
   "source": []
  },
  {
   "cell_type": "code",
   "execution_count": 1,
   "metadata": {},
   "outputs": [
    {
     "name": "stdout",
     "output_type": "stream",
     "text": [
      "enter first number\n",
      "enter second number4\n",
      "enter your operation4\n",
      "invaild\n"
     ]
    }
   ],
   "source": [
    "val1=input(\"enter first number\")\n",
    "val2=input(\"enter second number\")\n",
    "op=input(\"enter your operation\")\n",
    "if op==\"+\":\n",
    "    val=val1+val2\n",
    "    print(\"answer=>\",val)\n",
    "elif op==\"-\":\n",
    "    val=val1-val2\n",
    "    print(\"answer=>\",val)   \n",
    "elif op==\"*\":\n",
    "    val=val1*val2\n",
    "    print(\"answer=>\",val)       \n",
    "elif op==\"/\":\n",
    "    val=val1/val2\n",
    "    print(\"answer=>\",val)  \n",
    "elif op==\"1\":\n",
    "    print(pow(val1, val2))\n",
    "else :\n",
    "    print(\"invaild\")"
   ]
  },
  {
   "cell_type": "code",
   "execution_count": 11,
   "metadata": {},
   "outputs": [
    {
     "name": "stdout",
     "output_type": "stream",
     "text": [
      "value not numeric is found\n",
      "value not numeric is found\n",
      "value numeric is found\n"
     ]
    }
   ],
   "source": [
    "\n",
    "list_aa=[\"karachi\",\"lahore\",\"1200\",\"fsd\"]\n",
    "\n",
    "for val in list_aa:\n",
    "    if val == '1200':\n",
    "        print(\"value numeric is found\")\n",
    "        break;\n",
    "    else:\n",
    "        print(\"value not numeric is found\")\n",
    "        "
   ]
  },
  {
   "cell_type": "code",
   "execution_count": 15,
   "metadata": {},
   "outputs": [
    {
     "name": "stdout",
     "output_type": "stream",
     "text": [
      "{0: 10, 1: 20}\n",
      "{0: 10, 1: 20, 2: 50}\n",
      "{0: 10, 1: 20, 2: 50, 3: 51}\n",
      "{0: 10, 1: 20, 2: 50, 3: 51, 4: 52}\n",
      "{0: 10, 1: 20, 2: 50, 3: 51, 4: 52, 5: 53}\n",
      "{0: 10, 1: 20, 2: 50, 3: 51, 4: 52, 5: 53, 6: 54}\n",
      "{0: 10, 1: 20, 2: 50, 3: 51, 4: 52, 5: 53, 6: 54, 7: 55}\n"
     ]
    }
   ],
   "source": [
    "#write a python script to add a key to a dictionary\n",
    "\n",
    "\n",
    "sherry = {0:10, 1:20}\n",
    "print(sherry)\n",
    "sherry.update({2:50})\n",
    "print(sherry)\n",
    "sherry.update({3:51})\n",
    "print(sherry)\n",
    "sherry.update({4:52})\n",
    "print(sherry)\n",
    "sherry.update({5:53})\n",
    "print(sherry)\n",
    "sherry.update({6:54})\n",
    "print(sherry)\n",
    "sherry.update({7:55})\n",
    "print(sherry)"
   ]
  },
  {
   "cell_type": "code",
   "execution_count": 16,
   "metadata": {},
   "outputs": [
    {
     "name": "stdout",
     "output_type": "stream",
     "text": [
      "Sum : 700\n"
     ]
    }
   ],
   "source": [
    "def returnSum(myDict): \n",
    "      \n",
    "    sum = 0\n",
    "    for i in myDict: \n",
    "        sum = sum + myDict[i] \n",
    "      \n",
    "    return sum\n",
    "  \n",
    "\n",
    "dict = {'a': 100, 'b':200, 'c':400} \n",
    "print(\"Sum :\", returnSum(dict)) "
   ]
  },
  {
   "cell_type": "code",
   "execution_count": 17,
   "metadata": {},
   "outputs": [
    {
     "name": "stdout",
     "output_type": "stream",
     "text": [
      "[20, 30, -20, 60]\n"
     ]
    }
   ],
   "source": [
    "def Repeat(x): \n",
    "    _size = len(x) \n",
    "    repeated = [] \n",
    "    for i in range(_size): \n",
    "        k = i + 1\n",
    "        for j in range(k, _size): \n",
    "            if x[i] == x[j] and x[i] not in repeated: \n",
    "                repeated.append(x[i]) \n",
    "    return repeated\n",
    "\n",
    "list1 = [10, 20, 30, 20, 20, 30, 40,  \n",
    "         50, -20, 60, 60, -20, -20] \n",
    "print (Repeat(list1))"
   ]
  },
  {
   "cell_type": "code",
   "execution_count": 20,
   "metadata": {},
   "outputs": [
    {
     "name": "stdout",
     "output_type": "stream",
     "text": [
      "Enter No: 10\n",
      "Key is not present in the dictionary\n",
      "None\n"
     ]
    }
   ],
   "source": [
    "d = {1: 10, 2: 20, 3: 30, 4: 40, 5: 50, 6: 60}\n",
    "def is_key_present(x):\n",
    "    if x in d:\n",
    "        print('Key is present in the dictionary')\n",
    "    else:\n",
    "        print('Key is not present in the dictionary')\n",
    "x=int(input(\"Enter No: \"))\n",
    "print (is_key_present(x))"
   ]
  },
  {
   "cell_type": "code",
   "execution_count": null,
   "metadata": {},
   "outputs": [],
   "source": []
  }
 ],
 "metadata": {
  "kernelspec": {
   "display_name": "Python 3",
   "language": "python",
   "name": "python3"
  },
  "language_info": {
   "codemirror_mode": {
    "name": "ipython",
    "version": 3
   },
   "file_extension": ".py",
   "mimetype": "text/x-python",
   "name": "python",
   "nbconvert_exporter": "python",
   "pygments_lexer": "ipython3",
   "version": "3.7.4"
  }
 },
 "nbformat": 4,
 "nbformat_minor": 2
}
