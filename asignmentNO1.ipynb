{
 "cells": [
  {
   "cell_type": "code",
   "execution_count": 13,
   "metadata": {},
   "outputs": [
    {
     "name": "stdout",
     "output_type": "stream",
     "text": [
      "mark sheet asignment no one\n",
      "enter percentage ==> 85\n",
      "A grade\n"
     ]
    }
   ],
   "source": [
    "\n",
    "\n",
    "print (\"mark sheet asignment no one\")\n",
    "per=int(input(\"enter percentage ==> \"))\n",
    "if per > 80 and per <=100 :\n",
    "    print(\"A grade\")\n",
    "elif per >=70 and per <=80 :\n",
    "    print(\"B++ grade\")\n",
    "elif per >=60 and per <=70 :\n",
    "    print(\"B grade\")\n",
    "    \n",
    "elif per >=50 and per <=60 :\n",
    "    print(\"C++ grade\")\n",
    "    \n",
    "elif per >=40 and per <=50 :\n",
    "    print(\"C grade\")\n",
    "    \n",
    "elif per >=35  and per <=40 :\n",
    "    print(\"D grade permoted\")\n",
    "    \n",
    "\n",
    "elif per <35 :\n",
    "    print(\"you are fail\")\n",
    "        \n",
    "else :\n",
    "    print (\"invalid input\")\n",
    "        \n",
    "    \n",
    "\n"
   ]
  },
  {
   "cell_type": "code",
   "execution_count": null,
   "metadata": {},
   "outputs": [],
   "source": [
    "\n"
   ]
  },
  {
   "cell_type": "code",
   "execution_count": null,
   "metadata": {},
   "outputs": [],
   "source": [
    "\n"
   ]
  },
  {
   "cell_type": "code",
   "execution_count": null,
   "metadata": {},
   "outputs": [],
   "source": []
  }
 ],
 "metadata": {
  "kernelspec": {
   "display_name": "Python 3",
   "language": "python",
   "name": "python3"
  },
  "language_info": {
   "codemirror_mode": {
    "name": "ipython",
    "version": 3
   },
   "file_extension": ".py",
   "mimetype": "text/x-python",
   "name": "python",
   "nbconvert_exporter": "python",
   "pygments_lexer": "ipython3",
   "version": "3.7.4"
  }
 },
 "nbformat": 4,
 "nbformat_minor": 2
}
