{
 "cells": [
  {
   "cell_type": "code",
   "execution_count": null,
   "metadata": {},
   "outputs": [],
   "source": [
    " quiz_list=[\n",
    "    {\n",
    "        \"s.No\":1,\n",
    "        \"qustion\":\"how many layers in tcp/ip\",\n",
    "        \"options\":[\"7\",\"8\",\"2\",\"4\"],\n",
    "        \"answer\" :\"4\"\n",
    "        \n",
    "    },\n",
    "    {\n",
    "        \"s.No\":2,\n",
    "        \"qustion\":\"how many layers in osi model\",\n",
    "        \"options\":[\"7\",\"8\",\"4\",\"4\"],\n",
    "        \"answer\" :\"7\"\n",
    "        \n",
    "    }\n",
    "    ,\n",
    "    {\n",
    "        \"s.No\":3,\n",
    "        \"qustion\":\"python is an interprated language\",\n",
    "        \"options\":[\"yes\",\"no\",\"A\",\"not sure\"],\n",
    "        \"answer\":\"yes\"\n",
    "    }\n",
    "    ] \n",
    "\n",
    "score= 0;\n",
    "for val in quiz_list :\n",
    "    data = str(val[\"s.No\"])+ \":\"+val[\"qustion\"]+\"\\n chose correct answers\"+\"\\n\"+val[\"options\"][0]+\"\\n\"+val[\"options\"][1]+\"\\n\"+val[\"options\"][2]+\"\\n\"\n",
    "\n",
    "    answer = input(data)\n",
    "    score+=1;\n",
    "    per=float(score/3)*100\n",
    "    if (score == 3 and per == 100.0) :\n",
    "        print(\"100%\")\n",
    "        break;\n",
    "    if (score == 2 and per == 66.66) :\n",
    "        print(\"70%\")\n",
    "        break;\n",
    "    if (score == 1 and per == 33.33) :\n",
    "        print(\"40%\")\n",
    "    else:\n",
    "        print(\"20% fail\")\n",
    "\n",
    "        \n",
    "   "
   ]
  },
  {
   "cell_type": "code",
   "execution_count": null,
   "metadata": {},
   "outputs": [],
   "source": []
  },
  {
   "cell_type": "code",
   "execution_count": null,
   "metadata": {},
   "outputs": [],
   "source": []
  },
  {
   "cell_type": "code",
   "execution_count": null,
   "metadata": {},
   "outputs": [],
   "source": [
    "\n"
   ]
  }
 ],
 "metadata": {
  "kernelspec": {
   "display_name": "Python 3",
   "language": "python",
   "name": "python3"
  },
  "language_info": {
   "codemirror_mode": {
    "name": "ipython",
    "version": 3
   },
   "file_extension": ".py",
   "mimetype": "text/x-python",
   "name": "python",
   "nbconvert_exporter": "python",
   "pygments_lexer": "ipython3",
   "version": "3.7.4"
  }
 },
 "nbformat": 4,
 "nbformat_minor": 2
}
