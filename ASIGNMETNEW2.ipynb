{
 "cells": [
  {
   "cell_type": "code",
   "execution_count": 2,
   "metadata": {},
   "outputs": [
    {
     "name": "stdout",
     "output_type": "stream",
     "text": [
      "Enter marks of the first subject: 56\n",
      "Enter marks of the second subject: 59\n",
      "Enter marks of the third subject: 78\n",
      "Enter marks of the fourth subject: 55\n",
      "Enter marks of the fifth subject: 56\n",
      "Grade: D\n"
     ]
    }
   ],
   "source": [
    "sub1=int(input(\"Enter marks of the first subject: \"))\n",
    "sub2=int(input(\"Enter marks of the second subject: \"))\n",
    "sub3=int(input(\"Enter marks of the third subject: \"))\n",
    "sub4=int(input(\"Enter marks of the fourth subject: \"))\n",
    "sub5=int(input(\"Enter marks of the fifth subject: \"))\n",
    "avg=(sub1+sub2+sub3+sub4+sub4)/5\n",
    "if(avg>=90):\n",
    "    print(\"Grade: A\")\n",
    "elif(avg>=80 and avg<90):\n",
    "    print(\"Grade: B\")\n",
    "elif(avg>=70 and avg<80):\n",
    "    print(\"Grade: C\")\n",
    "elif(avg>=60 and avg<70):\n",
    "    print(\"Grade: D\")\n",
    "else:\n",
    "    print(\"Grade: F\")"
   ]
  },
  {
   "cell_type": "code",
   "execution_count": 3,
   "metadata": {},
   "outputs": [
    {
     "name": "stdout",
     "output_type": "stream",
     "text": [
      "Enter a number: 2\n",
      "This is an even number.\n"
     ]
    }
   ],
   "source": [
    "num = int(input(\"Enter a number: \"))\n",
    "mod = num % 2\n",
    "if mod > 0:\n",
    "    print(\"This is an odd number.\")\n",
    "else:\n",
    "    print(\"This is an even number.\")\n"
   ]
  },
  {
   "cell_type": "code",
   "execution_count": 4,
   "metadata": {},
   "outputs": [
    {
     "name": "stdout",
     "output_type": "stream",
     "text": [
      "The length of list is:  5\n"
     ]
    }
   ],
   "source": [
    "n = len([10, 20, 30, 40, 50]) \n",
    "print(\"The length of list is: \", n)\n"
   ]
  },
  {
   "cell_type": "code",
   "execution_count": 6,
   "metadata": {},
   "outputs": [
    {
     "name": "stdout",
     "output_type": "stream",
     "text": [
      "14\n",
      "13\n",
      "13\n"
     ]
    }
   ],
   "source": [
    "a = [15, 14, 22, 13, 15, 18, 13, 21, 34, 55, 89]\n",
    "\n",
    "for i in a:\n",
    "\n",
    "    if i < 15:\n",
    "\n",
    "        print(i)"
   ]
  },
  {
   "cell_type": "code",
   "execution_count": null,
   "metadata": {},
   "outputs": [],
   "source": []
  }
 ],
 "metadata": {
  "kernelspec": {
   "display_name": "Python 3",
   "language": "python",
   "name": "python3"
  },
  "language_info": {
   "codemirror_mode": {
    "name": "ipython",
    "version": 3
   },
   "file_extension": ".py",
   "mimetype": "text/x-python",
   "name": "python",
   "nbconvert_exporter": "python",
   "pygments_lexer": "ipython3",
   "version": "3.7.4"
  }
 },
 "nbformat": 4,
 "nbformat_minor": 2
}
