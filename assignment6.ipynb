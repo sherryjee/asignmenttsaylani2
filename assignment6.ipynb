{
 "cells": [
  {
   "cell_type": "code",
   "execution_count": 1,
   "metadata": {},
   "outputs": [
    {
     "data": {
      "text/plain": [
       "'BEHAVIOR==>  Behavior is the only way objects can do anything to themselves or have anything done to them.'"
      ]
     },
     "execution_count": 1,
     "metadata": {},
     "output_type": "execute_result"
    }
   ],
   "source": [
    "##qustion1what is OOP\n",
    "\n",
    "\"\"\"\n",
    "Python is a great programming language that supports OOP.\n",
    "You will use it to define a class with attributes and methods, which you will then call. \n",
    "Python offers a number of benefits compared to other programming languages like Java, C++ or R.\n",
    "It's a dynamic language, with high-level data types   \"\"\"\n",
    "\n",
    "##qustion2 benefits of opp\n",
    "'''Modularity for easier troubleshooting. \n",
    "Something has gone wrong, and you have no idea where to look. ...\n",
    "Reuse of code through inheritance. ...\n",
    "Flexibility through polymorphism. ...\n",
    "Effective problem solving.'''\n",
    "\n",
    "##qustion3\n",
    "\"\"\"functons are define on any place class or out of the class\"\"\"\n",
    "\"\"\"methods are mandetory  define in class\"\"\"\n",
    "\n",
    "##qustion4\n",
    "\"\"\"CLASS=>it is an template or blue print about the capacity of what an object can do\"\"\"\n",
    "\"\"\"OBJECT==>an object is an instation of a class.when the class is define.therefore no memory or storage is allocated\"\"\"\n",
    "\"\"\"ATRIBUTE==> attributes store information about the instance\"\"\"\n",
    "\"\"\"BEHAVIOR==>  Behavior is the only way objects can do anything to themselves or have anything done to them.\"\"\"\n",
    "\n",
    "\n",
    "\n"
   ]
  },
  {
   "cell_type": "code",
   "execution_count": 6,
   "metadata": {},
   "outputs": [
    {
     "name": "stdout",
     "output_type": "stream",
     "text": [
      "2008\n",
      "c200\n"
     ]
    }
   ],
   "source": [
    "class Car():\n",
    "\n",
    "    # create class attributes\n",
    "    name = \"c200\"\n",
    "    make = \"mercedez\"\n",
    "    model = 2008\n",
    "\n",
    "    # create class methods\n",
    "    def start(self):\n",
    "        print (\"Engine started\")\n",
    "\n",
    "    def stop(self):\n",
    "        print (\"Engine switched off\")\n",
    "\n",
    "\n",
    "# Creates car_a object of Car class\n",
    "car_a = Car()\n",
    "\n",
    "# Creates car_b object of car class\n",
    "car_b = Car()\n",
    "\n",
    "print(car_b.model)\n",
    "print(car_b.name)       "
   ]
  },
  {
   "cell_type": "code",
   "execution_count": null,
   "metadata": {},
   "outputs": [],
   "source": []
  }
 ],
 "metadata": {
  "kernelspec": {
   "display_name": "Python 3",
   "language": "python",
   "name": "python3"
  },
  "language_info": {
   "codemirror_mode": {
    "name": "ipython",
    "version": 3
   },
   "file_extension": ".py",
   "mimetype": "text/x-python",
   "name": "python",
   "nbconvert_exporter": "python",
   "pygments_lexer": "ipython3",
   "version": "3.7.4"
  }
 },
 "nbformat": 4,
 "nbformat_minor": 2
}
